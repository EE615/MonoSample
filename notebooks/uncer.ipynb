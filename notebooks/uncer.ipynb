{
 "cells": [
  {
   "cell_type": "code",
   "id": "initial_id",
   "metadata": {
    "collapsed": true,
    "ExecuteTime": {
     "end_time": "2024-04-17T14:23:01.935566Z",
     "start_time": "2024-04-17T14:23:01.923775Z"
    }
   },
   "source": [
    "import numpy as np\n",
    "import os\n",
    "import tqdm\n",
    "\n",
    "%load_ext autoreload\n",
    "%autoreload 2"
   ],
   "outputs": [
    {
     "name": "stdout",
     "output_type": "stream",
     "text": [
      "The autoreload extension is already loaded. To reload it, use:\n",
      "  %reload_ext autoreload\n"
     ]
    }
   ],
   "execution_count": 17
  },
  {
   "cell_type": "code",
   "source": [
    "def eval_from_scrach(gt_dir, det_dir):\n",
    "\n",
    "    all_gt, all_det = [], []\n",
    "    all_f = sorted(os.listdir(det_dir))\n",
    "    for i, f in enumerate(all_f):\n",
    "        gt_f = np.loadtxt(os.path.join(gt_dir, f), dtype=str).reshape(-1, 15)\n",
    "        det_f = np.loadtxt(os.path.join(det_dir, f), dtype=str).reshape(-1, 16)\n",
    "\n",
    "        gt = {}\n",
    "        det = {}\n",
    "        \n",
    "        '''name'''\n",
    "        valid = gt_f[:, 0] == 'Car'\n",
    "        gt['name'] = gt_f[:, 0][valid]\n",
    "        det['name'] = det_f[:, 0]\n",
    "        \n",
    "        '''bbox'''\n",
    "        gt['bbox'] = gt_f[:, 4:8].astype(np.float32)[valid]\n",
    "        det['bbox'] = det_f[:, 4:8].astype(np.float32)\n",
    "\n",
    "        '''alpha'''\n",
    "        gt['alpha'] = gt_f[:, 3].astype(np.float32)[valid]\n",
    "        det['alpha'] = det_f[:, 3].astype(np.float32)\n",
    "\n",
    "        '''occluded'''\n",
    "        gt['occluded'] = gt_f[:, 2].astype(np.float32)[valid]\n",
    "        det['occluded'] = det_f[:, 2].astype(np.float32)\n",
    "\n",
    "        '''truncated'''\n",
    "        gt['truncated'] = gt_f[:, 1].astype(np.float32)[valid]\n",
    "        det['truncated'] = det_f[:, 1].astype(np.float32)\n",
    "\n",
    "        '''location'''\n",
    "        gt['location'] = gt_f[:, 11:14].astype(np.float32)[valid]\n",
    "        det['location'] = det_f[:, 11:14].astype(np.float32)\n",
    "\n",
    "        '''dimensions, convert hwl to lhw'''\n",
    "        gt['dimensions'] = gt_f[:, [10, 8, 9]].astype(np.float32)[valid]\n",
    "        det['dimensions'] = det_f[:, [10, 8, 9]].astype(np.float32)\n",
    "\n",
    "        '''rotation_y'''\n",
    "        gt['rotation_y'] = gt_f[:, 14].astype(np.float32)[valid]\n",
    "        det['rotation_y'] = det_f[:, 14].astype(np.float32)\n",
    "\n",
    "        '''score'''\n",
    "        det['score'] = det_f[:, 15].astype(np.float32)\n",
    "\n",
    "        all_gt.append(gt)\n",
    "        all_det.append(det)\n",
    "        \n",
    "    # all_gt: list(3769), each label is a dict\n",
    "    # {'bbox': array([[599.41, 156.4 , 629.75, 189.25],\n",
    "    #        [387.63, 181.54, 423.81, 203.12],\n",
    "    #        [559.62, 175.83, 575.4 , 183.15]], dtype=float32),\n",
    "    # 'alpha': array([-1.57, -1.57, -1.57], dtype=float32),\n",
    "    # 'occluded': array([0., 0., 0.], dtype=float32),\n",
    "    # ...}\n",
    "    return all_det, all_gt"
   ],
   "metadata": {
    "collapsed": false,
    "ExecuteTime": {
     "end_time": "2024-04-17T14:23:03.289373Z",
     "start_time": "2024-04-17T14:23:03.275259Z"
    }
   },
   "id": "db66b16b84cd345",
   "outputs": [],
   "execution_count": 18
  },
  {
   "cell_type": "code",
   "source": "eval_dir = \"/home/a/DID-M3D/tmp_test/flip-crop/checkpoint_epoch_150\"",
   "metadata": {
    "collapsed": false,
    "ExecuteTime": {
     "end_time": "2024-04-17T13:07:02.359139Z",
     "start_time": "2024-04-17T13:07:02.349574Z"
    }
   },
   "id": "d39380652a0936b5",
   "outputs": [],
   "execution_count": 4
  },
  {
   "cell_type": "code",
   "source": [
    "all_det, all_gt =  eval_from_scrach(\n",
    "        \"/mnt/e/DataSet/kitti/training/label_2\",\n",
    "        os.path.join(eval_dir, \"data\")\n",
    "    )"
   ],
   "metadata": {
    "collapsed": false,
    "ExecuteTime": {
     "end_time": "2024-04-17T13:38:49.047957Z",
     "start_time": "2024-04-17T13:38:31.929306Z"
    }
   },
   "id": "8b44f0090a90ae0d",
   "outputs": [],
   "execution_count": 10
  },
  {
   "cell_type": "code",
   "source": [
    "import pickle\n",
    "with open(os.path.join(eval_dir, \"all_det.pkl\"), \"wb\") as f:\n",
    "    pickle.dump(all_det, f)\n",
    "with open(os.path.join(eval_dir, \"all_gt.pkl\"), \"wb\") as f:\n",
    "    pickle.dump(all_gt, f)"
   ],
   "metadata": {
    "collapsed": false,
    "ExecuteTime": {
     "end_time": "2024-04-17T13:38:49.236137Z",
     "start_time": "2024-04-17T13:38:49.050219Z"
    }
   },
   "id": "43b4800c78b33dee",
   "outputs": [],
   "execution_count": 11
  },
  {
   "cell_type": "code",
   "outputs": [
    {
     "data": {
      "text/plain": "({'name': array(['Car'], dtype='<U6'),\n  'bbox': array([[655.41, 191.43, 701.15, 221.87]], dtype=float32),\n  'alpha': array([-1.7], dtype=float32),\n  'occluded': array([0.], dtype=float32),\n  'truncated': array([0.], dtype=float32),\n  'location': array([[ 3.73,  2.56, 39.51]], dtype=float32),\n  'dimensions': array([[4.71, 1.53, 1.76]], dtype=float32),\n  'rotation_y': array([-1.61], dtype=float32),\n  'score': array([0.26], dtype=float32)},\n {'name': array(['Car'], dtype='<U6'),\n  'bbox': array([[657.39, 190.13, 700.07, 223.39]], dtype=float32),\n  'alpha': array([-1.67], dtype=float32),\n  'occluded': array([0.], dtype=float32),\n  'truncated': array([0.], dtype=float32),\n  'location': array([[ 3.18,  2.27, 34.38]], dtype=float32),\n  'dimensions': array([[4.36, 1.41, 1.58]], dtype=float32),\n  'rotation_y': array([-1.58], dtype=float32)})"
     },
     "execution_count": 204,
     "metadata": {},
     "output_type": "execute_result"
    }
   ],
   "source": [
    "all_det[1], all_gt[1]"
   ],
   "metadata": {
    "collapsed": false,
    "ExecuteTime": {
     "end_time": "2024-04-01T14:25:18.155584Z",
     "start_time": "2024-04-01T14:25:18.142093Z"
    }
   },
   "id": "3bfc5fbad59edabe",
   "execution_count": 204
  },
  {
   "cell_type": "code",
   "outputs": [],
   "source": [
    "from tools.eval import calculate_iou_partly\n",
    "\n",
    "overlaps, parted_overlaps, total_dt_num, total_gt_num = calculate_iou_partly(\n",
    "    all_det,\n",
    "    all_gt,\n",
    "    2,\n",
    "    50,\n",
    "    z_axis=1,\n",
    "    z_center=1)\n",
    "\n",
    " # r: det, c: gt"
   ],
   "metadata": {
    "collapsed": false,
    "ExecuteTime": {
     "end_time": "2024-04-01T11:05:58.800411Z",
     "start_time": "2024-04-01T11:05:58.460605Z"
    }
   },
   "id": "7bd16dbc9dbe55d6",
   "execution_count": 162
  },
  {
   "cell_type": "code",
   "outputs": [
    {
     "data": {
      "text/plain": "(0, 1)"
     },
     "execution_count": 44,
     "metadata": {},
     "output_type": "execute_result"
    }
   ],
   "source": [
    "overlaps[0].shape"
   ],
   "metadata": {
    "collapsed": false,
    "ExecuteTime": {
     "end_time": "2024-04-01T08:06:05.848379Z",
     "start_time": "2024-04-01T08:06:05.838018Z"
    }
   },
   "id": "1d92c4267d750179",
   "execution_count": 44
  },
  {
   "cell_type": "code",
   "outputs": [
    {
     "data": {
      "text/plain": "5"
     },
     "execution_count": 65,
     "metadata": {},
     "output_type": "execute_result"
    }
   ],
   "source": [
    "np.argmax(overlaps[5][1])"
   ],
   "metadata": {
    "collapsed": false,
    "ExecuteTime": {
     "end_time": "2024-04-01T08:25:34.791291Z",
     "start_time": "2024-04-01T08:25:34.780479Z"
    }
   },
   "id": "8fee5d988b4858b9",
   "execution_count": 65
  },
  {
   "cell_type": "code",
   "outputs": [
    {
     "data": {
      "text/plain": "({0: 2,\n  5: 13,\n  10: 40,\n  15: 83,\n  20: 151,\n  25: 256,\n  30: 397,\n  35: 284,\n  40: 559,\n  45: 404,\n  50: 557,\n  55: 660,\n  60: 971,\n  65: 954,\n  70: 728,\n  75: 198,\n  80: 0,\n  85: 0,\n  90: 0,\n  95: 0},\n {0.0: 194,\n  5.0: 369,\n  10.0: 562,\n  15.0: 734,\n  20.0: 883,\n  25.0: 971,\n  30.0: 1230,\n  35.0: 788,\n  40.0: 1271,\n  45.0: 861,\n  50.0: 1032,\n  55.0: 982,\n  60.0: 1270,\n  65.0: 1116,\n  70.0: 778,\n  75.0: 200,\n  80.0: 0,\n  85.0: 0,\n  90.0: 0,\n  95.0: 0})"
     },
     "execution_count": 166,
     "metadata": {},
     "output_type": "execute_result"
    }
   ],
   "source": [
    "precise = {key:0 for key in np.linspace(0, 95, 20, dtype=np.int32)}\n",
    "number = {key:0 for key in np.linspace(0, 95, 20)}\n",
    "\n",
    "for i in range(len(overlaps)):\n",
    "    overlap = overlaps[i]\n",
    "    det = all_det[i]\n",
    "    gt = all_gt[i]\n",
    "    \n",
    "    if overlap.size == 0:\n",
    "        continue\n",
    "    \n",
    "    for j in range(len(det['score'])):\n",
    "        s = int((det['score'][j] * 100) // 5 * 5)\n",
    "        valid = np.max(overlap, axis=1) >= 0.5\n",
    "        if valid[j]:\n",
    "                precise[s] += 1\n",
    "        number[s] += 1\n",
    "\n",
    "precise, number"
   ],
   "metadata": {
    "collapsed": false,
    "ExecuteTime": {
     "end_time": "2024-04-01T11:07:04.931602Z",
     "start_time": "2024-04-01T11:07:04.799856Z"
    }
   },
   "id": "b2a5393161f46127",
   "execution_count": 166
  },
  {
   "cell_type": "code",
   "outputs": [
    {
     "data": {
      "text/plain": "<Figure size 640x480 with 1 Axes>",
      "image/png": "[encoded data removed]"
     },
     "metadata": {},
     "output_type": "display_data"
    }
   ],
   "source": [
    "from matplotlib import pyplot as plt\n",
    "\n",
    "y = np.array(list(precise.values())) / np.array(list(number.values())) * 100\n",
    "x = np.array(list(precise.keys()))\n",
    "x_ = x.copy()\n",
    "plt.plot(x, y)\n",
    "plt.plot(x, x_)\n",
    "plt.show()"
   ],
   "metadata": {
    "collapsed": false,
    "ExecuteTime": {
     "end_time": "2024-04-01T11:07:05.475407Z",
     "start_time": "2024-04-01T11:07:05.393852Z"
    }
   },
   "id": "89169f815d6d6a00",
   "execution_count": 167
  },
  {
   "cell_type": "code",
   "source": [
    "use_depth = False\n",
    "all_y = {}\n",
    "from itertools import product\n",
    "\n",
    "for e,d in product([90,100,110,120,130,140], ['flip-crop']):\n",
    "    eval_dir = f\"/home/a/DID-M3D/tmp_test/{d}/checkpoint_epoch_{e}\"\n",
    "    import pickle\n",
    "    with open(os.path.join(eval_dir, \"all_det.pkl\"), \"rb\") as f:\n",
    "        all_det = pickle.load(f)\n",
    "    with open(os.path.join(eval_dir, \"all_gt.pkl\"), \"rb\") as f:\n",
    "        all_gt = pickle.load(f)\n",
    "    from tools.eval import calculate_iou_partly\n",
    "\n",
    "    overlaps, parted_overlaps, total_dt_num, total_gt_num = calculate_iou_partly(\n",
    "    all_det,\n",
    "    all_gt,\n",
    "    2,\n",
    "    50,\n",
    "    z_axis=1,\n",
    "    z_center=1)\n",
    "    \n",
    "    precise = {key:0 for key in np.linspace(0, 95, 20, dtype=np.int32)}\n",
    "    number = {key:0 for key in np.linspace(0, 95, 20)}\n",
    "    \n",
    "    for i in range(len(overlaps)):\n",
    "        overlap = overlaps[i]\n",
    "        det = all_det[i]\n",
    "        gt = all_gt[i]\n",
    "        \n",
    "        if overlap.size == 0:\n",
    "            continue\n",
    "        \n",
    "        for j in range(len(det['score'])):\n",
    "            s = int((det['score'][j] * 100) // 5 * 5)\n",
    "            if use_depth:\n",
    "                k = np.argmax(overlap[j])\n",
    "                z_gt = gt['location'][k][2]\n",
    "                z_det = det['location'][j][2]\n",
    "                if abs(z_gt - z_det) < 0.4:\n",
    "                    precise[s] += 1\n",
    "            else:\n",
    "                valid = np.max(overlap, axis=1) >= 0.5\n",
    "                if valid[j]:\n",
    "                    precise[s] += 1\n",
    "            number[s] += 1\n",
    "    \n",
    "    from matplotlib import pyplot as plt\n",
    "\n",
    "    y = np.array(list(precise.values())) / np.array(list(number.values())) * 100\n",
    "    x = np.array(list(precise.keys()))\n",
    "    plt.plot(x,y,label=f\"{d},{e}\")\n",
    "    all_y[f'{d} {e}'] = {\n",
    "        'x': x,\n",
    "        'y': y,\n",
    "        'precise': precise,\n",
    "        'number': number\n",
    "    }\n",
    "plt.plot(x,x)\n",
    "plt.legend()\n",
    "plt.show()"
   ],
   "metadata": {
    "collapsed": false,
    "ExecuteTime": {
     "end_time": "2024-04-17T14:24:23.694881Z",
     "start_time": "2024-04-17T14:24:21.466815Z"
    }
   },
   "id": "c02d84e293914a29",
   "outputs": [
    {
     "data": {
      "text/plain": [
       "<Figure size 640x480 with 1 Axes>"
      ],
      "image/png": "[encoded data removed]"
     },
     "metadata": {},
     "output_type": "display_data"
    }
   ],
   "execution_count": 22
  },
  {
   "cell_type": "code",
   "source": [
    "\n",
    "\n",
    "for k, v in all_y.items():\n",
    "    all_num = 0\n",
    "    for num in v['number'].values():\n",
    "        all_num += num\n",
    "    mae = 0\n",
    "    for i in range(len(v['x'])):\n",
    "        if np.isnan(v['y'][i]):\n",
    "            continue\n",
    "        mae += v['number'][5 * i] * abs(v['x'][i] - v['y'][i])\n",
    "    mae /= all_num\n",
    "    print(f'{k},{mae}')"
   ],
   "metadata": {
    "collapsed": false,
    "ExecuteTime": {
     "end_time": "2024-04-17T14:24:29.330535Z",
     "start_time": "2024-04-17T14:24:29.319280Z"
    }
   },
   "id": "db265314313c496a",
   "outputs": [
    {
     "name": "stdout",
     "output_type": "stream",
     "text": [
      "flip-crop 90,12.966629588431593\n",
      "flip-crop 100,9.329523382638575\n",
      "flip-crop 110,9.312148957451717\n",
      "flip-crop 120,9.134637426453734\n",
      "flip-crop 130,9.15595412208452\n",
      "flip-crop 140,8.940274227283291\n"
     ]
    }
   ],
   "execution_count": 23
  },
  {
   "cell_type": "code",
   "source": [
    "all_y"
   ],
   "metadata": {
    "collapsed": false,
    "ExecuteTime": {
     "end_time": "2024-04-17T14:04:33.693619Z",
     "start_time": "2024-04-17T14:04:33.677629Z"
    }
   },
   "id": "286ec8380eb6f84c",
   "outputs": [
    {
     "data": {
      "text/plain": [
       "{'aug-flip-drx-1': {'x': array([ 0,  5, 10, 15, 20, 25, 30, 35, 40, 45, 50, 55, 60, 65, 70, 75, 80,\n",
       "         85, 90, 95], dtype=int32),\n",
       "  'y': array([ 1.03092784,  3.52303523,  7.11743772, 11.30790191, 17.10079275,\n",
       "         26.36457261, 32.27642276, 36.04060914, 43.98111723, 46.92218351,\n",
       "         53.97286822, 67.20977597, 76.45669291, 85.48387097, 93.57326478,\n",
       "         99.        ,         nan,         nan,         nan,         nan]),\n",
       "  'precise': {0: 2,\n",
       "   5: 13,\n",
       "   10: 40,\n",
       "   15: 83,\n",
       "   20: 151,\n",
       "   25: 256,\n",
       "   30: 397,\n",
       "   35: 284,\n",
       "   40: 559,\n",
       "   45: 404,\n",
       "   50: 557,\n",
       "   55: 660,\n",
       "   60: 971,\n",
       "   65: 954,\n",
       "   70: 728,\n",
       "   75: 198,\n",
       "   80: 0,\n",
       "   85: 0,\n",
       "   90: 0,\n",
       "   95: 0},\n",
       "  'number': {0.0: 194,\n",
       "   5.0: 369,\n",
       "   10.0: 562,\n",
       "   15.0: 734,\n",
       "   20.0: 883,\n",
       "   25.0: 971,\n",
       "   30.0: 1230,\n",
       "   35.0: 788,\n",
       "   40.0: 1271,\n",
       "   45.0: 861,\n",
       "   50.0: 1032,\n",
       "   55.0: 982,\n",
       "   60.0: 1270,\n",
       "   65.0: 1116,\n",
       "   70.0: 778,\n",
       "   75.0: 200,\n",
       "   80.0: 0,\n",
       "   85.0: 0,\n",
       "   90.0: 0,\n",
       "   95.0: 0}},\n",
       " 'no-aug-loss': {'x': array([ 0,  5, 10, 15, 20, 25, 30, 35, 40, 45, 50, 55, 60, 65, 70, 75, 80,\n",
       "         85, 90, 95], dtype=int32),\n",
       "  'y': array([ 0.        ,  0.        ,  5.03597122,  4.76190476,  5.14541387,\n",
       "         11.14327062, 20.60810811, 30.09404389, 34.95821727, 44.28997021,\n",
       "         49.42832014, 59.05511811, 71.54989384, 79.79452055, 90.99576271,\n",
       "         98.48484848,         nan,         nan,         nan,         nan]),\n",
       "  'precise': {0: 0,\n",
       "   5: 0,\n",
       "   10: 7,\n",
       "   15: 11,\n",
       "   20: 23,\n",
       "   25: 77,\n",
       "   30: 244,\n",
       "   35: 288,\n",
       "   40: 502,\n",
       "   45: 446,\n",
       "   50: 562,\n",
       "   55: 675,\n",
       "   60: 1011,\n",
       "   65: 932,\n",
       "   70: 859,\n",
       "   75: 260,\n",
       "   80: 0,\n",
       "   85: 0,\n",
       "   90: 0,\n",
       "   95: 0},\n",
       "  'number': {0.0: 3,\n",
       "   5.0: 60,\n",
       "   10.0: 139,\n",
       "   15.0: 231,\n",
       "   20.0: 447,\n",
       "   25.0: 691,\n",
       "   30.0: 1184,\n",
       "   35.0: 957,\n",
       "   40.0: 1436,\n",
       "   45.0: 1007,\n",
       "   50.0: 1137,\n",
       "   55.0: 1143,\n",
       "   60.0: 1413,\n",
       "   65.0: 1168,\n",
       "   70.0: 944,\n",
       "   75.0: 264,\n",
       "   80.0: 0,\n",
       "   85.0: 0,\n",
       "   90.0: 0,\n",
       "   95.0: 0}},\n",
       " 'origin': {'x': array([ 0,  5, 10, 15, 20, 25, 30, 35, 40, 45, 50, 55, 60, 65, 70, 75, 80,\n",
       "         85, 90, 95], dtype=int32),\n",
       "  'y': array([ 0.        ,  0.        ,  0.66666667,  2.59365994,  6.1023622 ,\n",
       "          9.58429561, 16.00598355, 27.52646776, 32.42730721, 37.16508211,\n",
       "         42.71211022, 48.92966361, 62.36890808, 80.32915361, 91.92872117,\n",
       "         99.2248062 ,         nan,         nan,         nan,         nan]),\n",
       "  'precise': {0: 0,\n",
       "   5: 0,\n",
       "   10: 1,\n",
       "   15: 9,\n",
       "   20: 31,\n",
       "   25: 83,\n",
       "   30: 214,\n",
       "   35: 286,\n",
       "   40: 513,\n",
       "   45: 430,\n",
       "   50: 589,\n",
       "   55: 640,\n",
       "   60: 1011,\n",
       "   65: 1025,\n",
       "   70: 877,\n",
       "   75: 256,\n",
       "   80: 0,\n",
       "   85: 0,\n",
       "   90: 0,\n",
       "   95: 0},\n",
       "  'number': {0.0: 15,\n",
       "   5.0: 89,\n",
       "   10.0: 150,\n",
       "   15.0: 347,\n",
       "   20.0: 508,\n",
       "   25.0: 866,\n",
       "   30.0: 1337,\n",
       "   35.0: 1039,\n",
       "   40.0: 1582,\n",
       "   45.0: 1157,\n",
       "   50.0: 1379,\n",
       "   55.0: 1308,\n",
       "   60.0: 1621,\n",
       "   65.0: 1276,\n",
       "   70.0: 954,\n",
       "   75.0: 258,\n",
       "   80.0: 0,\n",
       "   85.0: 0,\n",
       "   90.0: 0,\n",
       "   95.0: 0}},\n",
       " 'no-aug': {'x': array([ 0,  5, 10, 15, 20, 25, 30, 35, 40, 45, 50, 55, 60, 65, 70, 75, 80,\n",
       "         85, 90, 95], dtype=int32),\n",
       "  'y': array([        nan,         nan,  0.        ,         nan,         nan,\n",
       "          0.        ,  0.        ,  0.        ,  3.03030303,  8.88888889,\n",
       "         16.        , 26.9296741 , 32.78688525, 40.74844075, 44.83695652,\n",
       "         50.66864785, 72.82463186, 88.18973863,         nan,         nan]),\n",
       "  'precise': {0: 0,\n",
       "   5: 0,\n",
       "   10: 0,\n",
       "   15: 0,\n",
       "   20: 0,\n",
       "   25: 0,\n",
       "   30: 0,\n",
       "   35: 0,\n",
       "   40: 3,\n",
       "   45: 12,\n",
       "   50: 52,\n",
       "   55: 157,\n",
       "   60: 320,\n",
       "   65: 392,\n",
       "   70: 495,\n",
       "   75: 1023,\n",
       "   80: 1632,\n",
       "   85: 911,\n",
       "   90: 0,\n",
       "   95: 0},\n",
       "  'number': {0.0: 0,\n",
       "   5.0: 0,\n",
       "   10.0: 1,\n",
       "   15.0: 0,\n",
       "   20.0: 0,\n",
       "   25.0: 1,\n",
       "   30.0: 17,\n",
       "   35.0: 36,\n",
       "   40.0: 99,\n",
       "   45.0: 135,\n",
       "   50.0: 325,\n",
       "   55.0: 583,\n",
       "   60.0: 976,\n",
       "   65.0: 962,\n",
       "   70.0: 1104,\n",
       "   75.0: 2019,\n",
       "   80.0: 2241,\n",
       "   85.0: 1033,\n",
       "   90.0: 0,\n",
       "   95.0: 0}},\n",
       " 'flip-crop': {'x': array([ 0,  5, 10, 15, 20, 25, 30, 35, 40, 45, 50, 55, 60, 65, 70, 75, 80,\n",
       "         85, 90, 95], dtype=int32),\n",
       "  'y': array([ 0.        ,  1.44927536,  5.50458716,  3.94366197,  7.85046729,\n",
       "         10.93167702, 21.02009274, 30.63583815, 38.03301238, 44.00396432,\n",
       "         52.08333333, 61.53176675, 72.36580517, 82.26072607, 93.62688297,\n",
       "         97.91666667,         nan,         nan,         nan,         nan]),\n",
       "  'precise': {0: 0,\n",
       "   5: 2,\n",
       "   10: 12,\n",
       "   15: 14,\n",
       "   20: 42,\n",
       "   25: 88,\n",
       "   30: 272,\n",
       "   35: 318,\n",
       "   40: 553,\n",
       "   45: 444,\n",
       "   50: 625,\n",
       "   55: 707,\n",
       "   60: 1092,\n",
       "   65: 997,\n",
       "   70: 808,\n",
       "   75: 94,\n",
       "   80: 0,\n",
       "   85: 0,\n",
       "   90: 0,\n",
       "   95: 0},\n",
       "  'number': {0.0: 34,\n",
       "   5.0: 138,\n",
       "   10.0: 218,\n",
       "   15.0: 355,\n",
       "   20.0: 535,\n",
       "   25.0: 805,\n",
       "   30.0: 1294,\n",
       "   35.0: 1038,\n",
       "   40.0: 1454,\n",
       "   45.0: 1009,\n",
       "   50.0: 1200,\n",
       "   55.0: 1149,\n",
       "   60.0: 1509,\n",
       "   65.0: 1212,\n",
       "   70.0: 863,\n",
       "   75.0: 96,\n",
       "   80.0: 0,\n",
       "   85.0: 0,\n",
       "   90.0: 0,\n",
       "   95.0: 0}}}"
      ]
     },
     "execution_count": 16,
     "metadata": {},
     "output_type": "execute_result"
    }
   ],
   "execution_count": 16
  },
  {
   "cell_type": "code",
   "outputs": [],
   "source": [],
   "metadata": {
    "collapsed": false
   },
   "id": "4a6df8a714b56e50",
   "execution_count": null
  }
 ],
 "metadata": {
  "kernelspec": {
   "display_name": "Python 3",
   "language": "python",
   "name": "python3"
  },
  "language_info": {
   "codemirror_mode": {
    "name": "ipython",
    "version": 2
   },
   "file_extension": ".py",
   "mimetype": "text/x-python",
   "name": "python",
   "nbconvert_exporter": "python",
   "pygments_lexer": "ipython2",
   "version": "2.7.6"
  }
 },
 "nbformat": 4,
 "nbformat_minor": 5
}
